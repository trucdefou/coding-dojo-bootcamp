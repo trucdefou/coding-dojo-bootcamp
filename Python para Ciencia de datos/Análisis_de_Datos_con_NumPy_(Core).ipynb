{
  "nbformat": 4,
  "nbformat_minor": 0,
  "metadata": {
    "colab": {
      "provenance": []
    },
    "kernelspec": {
      "name": "python3",
      "display_name": "Python 3"
    },
    "language_info": {
      "name": "python"
    }
  },
  "cells": [
    {
      "cell_type": "markdown",
      "source": [
        "Tarea: Análisis de Datos con NumPy (Core)\n",
        "Nombre: Luciano Benjamín Recalde Carballo"
      ],
      "metadata": {
        "id": "yhWdTLaSP0u6"
      }
    },
    {
      "cell_type": "code",
      "execution_count": null,
      "metadata": {
        "colab": {
          "base_uri": "https://localhost:8080/"
        },
        "id": "eqaTLIOcPns-",
        "outputId": "9c543762-eae3-4be5-f8d2-ca74a9aed1d2"
      },
      "outputs": [
        {
          "output_type": "stream",
          "name": "stdout",
          "text": [
            "Total de ventas por producto a lo largo de la semana: [1817 1800 1912 1980 1440 1730 1966 1720 1652 1765]\n",
            "Total de ventas por tienda a lo largo de la semana: [3232 3480 3627 3748 3695]\n",
            "Promedio de ventas por producto por día: [51.91428571 51.42857143 54.62857143 56.57142857 41.14285714 49.42857143\n",
            " 56.17142857 49.14285714 47.2        50.42857143]\n",
            "Promedio de ventas por tienda por día: [46.17142857 49.71428571 51.81428571 53.54285714 52.78571429]\n",
            "Producto con mayor ventas: Producto 3\n",
            "Producto con menor ventas: Producto 4\n",
            "Tienda con mayor ventas: Tienda 3\n",
            "Tienda con menor ventas: Tienda 0\n"
          ]
        }
      ],
      "source": [
        "import numpy as np\n",
        "\n",
        "def generar_datos_ventas(productos, tiendas, dias):\n",
        "    # Genera datos de ventas aleatorias para el número de productos, tiendas y días especificados\n",
        "    return np.random.randint(0, 101, (productos, tiendas, dias))\n",
        "\n",
        "def calcular_totales_ventas_por_producto(datos):\n",
        "    # Calcula el total de ventas por producto a lo largo de la semana\n",
        "    return np.sum(datos, axis=(1, 2))\n",
        "\n",
        "def calcular_totales_ventas_por_tienda(datos):\n",
        "    # Calcula el total de ventas por tienda a lo largo de la semana\n",
        "    return np.sum(datos, axis=(0, 2))\n",
        "\n",
        "def calcular_promedio_ventas_por_producto(datos):\n",
        "    # Calcula el promedio de ventas por producto por día\n",
        "    return np.mean(datos, axis=(1, 2))\n",
        "\n",
        "def calcular_promedio_ventas_por_tienda(datos):\n",
        "    # Calcula el promedio de ventas por tienda por día\n",
        "    return np.mean(datos, axis=(0, 2))\n",
        "\n",
        "def encontrar_producto_mayor_menor_ventas(totales_por_producto):\n",
        "    # Encuentra el producto con mayor y menor ventas totales en la semana\n",
        "    producto_mayor_ventas = np.argmax(totales_por_producto)\n",
        "    producto_menor_ventas = np.argmin(totales_por_producto)\n",
        "    return producto_mayor_ventas, producto_menor_ventas\n",
        "\n",
        "def encontrar_tienda_mayor_menor_ventas(totales_por_tienda):\n",
        "    # Encuentra la tienda con mayor y menor ventas totales en la semana\n",
        "    tienda_mayor_ventas = np.argmax(totales_por_tienda)\n",
        "    tienda_menor_ventas = np.argmin(totales_por_tienda)\n",
        "    return tienda_mayor_ventas, tienda_menor_ventas\n",
        "\n",
        "def imprimir_resumen(estudiantes):\n",
        "    # Imprime un resumen con el nombre de los estudiantes, su promedio y su estado\n",
        "    pass\n",
        "\n",
        "productos = 10\n",
        "tiendas = 5\n",
        "dias = 7\n",
        "\n",
        "# Genera los datos de ventas\n",
        "datos = generar_datos_ventas(productos, tiendas, dias)\n",
        "\n",
        "# Calcula los totales y promedios\n",
        "totales_por_producto = calcular_totales_ventas_por_producto(datos)\n",
        "totales_por_tienda = calcular_totales_ventas_por_tienda(datos)\n",
        "promedio_por_producto = calcular_promedio_ventas_por_producto(datos)\n",
        "promedio_por_tienda = calcular_promedio_ventas_por_tienda(datos)\n",
        "\n",
        "# Encuentra el producto y la tienda con mayor y menor ventas\n",
        "producto_mayor_ventas, producto_menor_ventas = encontrar_producto_mayor_menor_ventas(totales_por_producto)\n",
        "tienda_mayor_ventas, tienda_menor_ventas = encontrar_tienda_mayor_menor_ventas(totales_por_tienda)\n",
        "\n",
        "# Imprime los resultados\n",
        "print(\"Total de ventas por producto a lo largo de la semana:\", totales_por_producto)\n",
        "print(\"Total de ventas por tienda a lo largo de la semana:\", totales_por_tienda)\n",
        "print(\"Promedio de ventas por producto por día:\", promedio_por_producto)\n",
        "print(\"Promedio de ventas por tienda por día:\", promedio_por_tienda)\n",
        "print(f\"Producto con mayor ventas: Producto {producto_mayor_ventas}\")\n",
        "print(f\"Producto con menor ventas: Producto {producto_menor_ventas}\")\n",
        "print(f\"Tienda con mayor ventas: Tienda {tienda_mayor_ventas}\")\n",
        "print(f\"Tienda con menor ventas: Tienda {tienda_menor_ventas}\")"
      ]
    }
  ]
}