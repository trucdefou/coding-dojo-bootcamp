{
  "nbformat": 4,
  "nbformat_minor": 0,
  "metadata": {
    "colab": {
      "provenance": []
    },
    "kernelspec": {
      "name": "python3",
      "display_name": "Python 3"
    },
    "language_info": {
      "name": "python"
    }
  },
  "cells": [
    {
      "cell_type": "markdown",
      "source": [
        "Tarea: Manejo de cadenas (Core)\n",
        "Nombre: Luciano Benjamín Recalde Carballo"
      ],
      "metadata": {
        "id": "yhWdTLaSP0u6"
      }
    },
    {
      "cell_type": "code",
      "execution_count": null,
      "metadata": {
        "colab": {
          "base_uri": "https://localhost:8080/"
        },
        "id": "eqaTLIOcPns-",
        "outputId": "b3ac88e6-655d-4c08-d798-b61dedf9113f"
      },
      "outputs": [
        {
          "output_type": "stream",
          "name": "stdout",
          "text": [
            "Por favor, ingresa tu nombre: Benja\n",
            "Por favor, ingresa tu edad: 32\n",
            "Hola Benja, espero que estés súper bien, tienes 32 años, eso quiere decir que naciste en 1992.\n"
          ]
        }
      ],
      "source": [
        "# Nombre y edad\n",
        "nombre = input(\"Por favor, ingresa tu nombre: \")\n",
        "edad = input(\"Por favor, ingresa tu edad: \")\n",
        "\n",
        "# Saludo personalizado\n",
        "print(f\"Hola {nombre}, espero que estés súper bien, tienes {edad} años, eso quiere decir que naciste en {2024-32}.\")"
      ]
    },
    {
      "cell_type": "code",
      "source": [
        "\n",
        "nombre_completo = \"Luciano Benjamin Recalde Carballo\"\n",
        "\n",
        "# Convertir a mayúsculas\n",
        "nombre_mayusculas = nombre_completo.upper()\n",
        "print(f\"Nombre en mayúsculas: {nombre_mayusculas}\")\n",
        "\n",
        "# Convertir a minúsculas\n",
        "nombre_minusculas = nombre_completo.lower()\n",
        "print(f\"Nombre en minúsculas: {nombre_minusculas}\")\n",
        "\n",
        "# Contar el número de letras\n",
        "numero_letras = len(nombre_completo.replace(\" \", \"\"))\n",
        "print(f\"Número de letras en el nombre: {numero_letras}\")\n",
        "\n",
        "# Reemplazar el primer nombre por otro nombre\n",
        "nuevo_nombre = nombre_completo.replace(\"Luciano\", \"Agustín\")\n",
        "print(f\"Nuevo nombre: {nuevo_nombre}\")"
      ],
      "metadata": {
        "colab": {
          "base_uri": "https://localhost:8080/"
        },
        "id": "lTsKBdotQdvd",
        "outputId": "d84a8792-4b1b-4a93-867e-89745ea277e8"
      },
      "execution_count": null,
      "outputs": [
        {
          "output_type": "stream",
          "name": "stdout",
          "text": [
            "Nombre en mayúsculas: LUCIANO BENJAMIN RECALDE CARBALLO\n",
            "Nombre en minúsculas: luciano benjamin recalde carballo\n",
            "Número de letras en el nombre: 30\n",
            "Nuevo nombre: Agustín Benjamin Recalde Carballo\n"
          ]
        }
      ]
    },
    {
      "cell_type": "code",
      "source": [
        "nombres = input(\"Ingresa una lista de nombres separados por comas: \")\n",
        "\n",
        "lista_nombres = nombres.split(\",\")\n",
        "\n",
        "# Imprimir cada nombre\n",
        "for nombre in lista_nombres:\n",
        "    print(nombre.strip())  # Usamos strip() para eliminar espacios adicionales alrededor de cada nombre"
      ],
      "metadata": {
        "colab": {
          "base_uri": "https://localhost:8080/"
        },
        "id": "zI5hJSFeRof8",
        "outputId": "e2c0e2b1-4895-45f8-fa67-1d47d502ea6c"
      },
      "execution_count": null,
      "outputs": [
        {
          "output_type": "stream",
          "name": "stdout",
          "text": [
            "Ingresa una lista de nombres separados por comas: Jose, Mario, pedro, raul\n",
            "Jose\n",
            "Mario\n",
            "pedro\n",
            "raul\n"
          ]
        }
      ]
    }
  ]
}