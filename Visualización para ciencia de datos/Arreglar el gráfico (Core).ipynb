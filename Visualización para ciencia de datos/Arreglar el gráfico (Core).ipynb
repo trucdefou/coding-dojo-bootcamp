{
 "cells": [
  {
   "cell_type": "markdown",
   "metadata": {},
   "source": [
    "Tarea: Arreglar el gráfico (Core)\n",
    "Nombre: Luciano Benjamín Recalde Carballo"
   ]
  },
  {
   "cell_type": "code",
   "execution_count": null,
   "metadata": {},
   "outputs": [],
   "source": [
    "import pandas as pd\n",
    "import matplotlib.pyplot as plt\n",
    "from io import StringIO\n",
    "\n",
    "# Datos de ejemplo en formato CSV\n",
    "data = \"\"\"\n",
    "fecha,ventas\n",
    "2023-01-01,200\n",
    "2023-01-02,220\n",
    "2023-01-03,210\n",
    "2023-01-04,205\n",
    "2023-01-05,215\n",
    "2023-01-06,225\n",
    "\"\"\"\n",
    "\n",
    "# Cargar los datos en un DataFrame de Pandas\n",
    "df = pd.read_csv(StringIO(data))\n",
    "\n",
    "# Convertir la columna 'fecha' a formato datetime\n",
    "df['fecha'] = pd.to_datetime(df['fecha'])\n",
    "print(df.dtypes)\n",
    "\n",
    "# Gráfico de líneas de las ventas\n",
    "plt.figure(figsize=(10, 6))\n",
    "plt.plot(df['fecha'], df['ventas'])\n",
    "plt.title(\"Ventas Diarias\")\n",
    "plt.xlabel(\"Fecha\")\n",
    "plt.ylabel(\"Ventas\")\n",
    "plt.show()\n",
    "\n",
    "# Crear un gráfico de dispersión\n",
    "plt.scatter(df['fecha'], df['ventas'])\n",
    "plt.title(\"Ventas Diarias\")\n",
    "plt.xlabel(\"Fecha\")\n",
    "plt.ylabel(\"Ventas\")\n",
    "plt.show()\n",
    "\n",
    "# Crear un histograma de las ventas\n",
    "plt.hist(df['ventas'], bins=5, color='skyblue', edgecolor='black')\n",
    "plt.title(\"Distribución de Ventas\")\n",
    "plt.xlabel(\"Ventas\")\n",
    "plt.ylabel(\"Frecuencia\")\n",
    "plt.show()"
   ]
  }
 ],
 "metadata": {
  "kernelspec": {
   "display_name": "Python 3",
   "language": "python",
   "name": "python3"
  },
  "language_info": {
   "codemirror_mode": {
    "name": "ipython",
    "version": 3
   },
   "file_extension": ".py",
   "mimetype": "text/x-python",
   "name": "python",
   "nbconvert_exporter": "python",
   "pygments_lexer": "ipython3",
   "version": "3.10.12"
  }
 },
 "nbformat": 4,
 "nbformat_minor": 2
}
