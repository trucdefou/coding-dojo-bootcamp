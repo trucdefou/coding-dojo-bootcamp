{
 "cells": [
  {
   "cell_type": "markdown",
   "metadata": {},
   "source": [
    "Tarea: Ejercicios de histogramas y boxplots (Core)\n",
    "Nombre: Luciano Benjamín Recalde Carballo"
   ]
  },
  {
   "cell_type": "markdown",
   "metadata": {},
   "source": [
    "Cargar y Explorar los Datos:"
   ]
  },
  {
   "cell_type": "code",
   "execution_count": null,
   "metadata": {},
   "outputs": [],
   "source": [
    "import pandas as pd\n",
    "import matplotlib.pyplot as plt\n",
    "\n",
    "# Cargar los datos en un DataFrame de Pandas\n",
    "df = pd.read_csv('data/2015.csv')\n",
    "# Ver las primeras filas del DataFrame\n",
    "print(\"Primeras filas del DataFrame:\")\n",
    "print(df.head(10))\n",
    "# Ver últimas filas del DataFrame\n",
    "print(\"Últimas filas del DataFrame:\")\n",
    "print(df.tail(5))\n",
    "# Obtener información general sobre el DataFrame\n",
    "print(\"Información del DataFrame:\")\n",
    "print(df.info())\n",
    "# Generar estadísticas descriptivas\n",
    "print(\"Estadísticas descriptivas del DataFrame:\")\n",
    "print(df.describe())\n",
    "# Inspeccionar los tipos de datos de las columnas\n",
    "print(\"Tipos de datos de las columnas:\")\n",
    "print(df.dtypes)"
   ]
  },
  {
   "cell_type": "markdown",
   "metadata": {},
   "source": [
    "Crear Histogramas"
   ]
  },
  {
   "cell_type": "code",
   "execution_count": null,
   "metadata": {},
   "outputs": [],
   "source": []
  }
 ],
 "metadata": {
  "kernelspec": {
   "display_name": "Python 3",
   "language": "python",
   "name": "python3"
  },
  "language_info": {
   "codemirror_mode": {
    "name": "ipython",
    "version": 3
   },
   "file_extension": ".py",
   "mimetype": "text/x-python",
   "name": "python",
   "nbconvert_exporter": "python",
   "pygments_lexer": "ipython3",
   "version": "3.10.12"
  }
 },
 "nbformat": 4,
 "nbformat_minor": 2
}
