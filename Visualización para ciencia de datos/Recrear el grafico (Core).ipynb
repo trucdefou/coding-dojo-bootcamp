{
 "cells": [
  {
   "cell_type": "markdown",
   "metadata": {},
   "source": [
    "Tarea: Recrear el grafico\n",
    "Nombre: Luciano Benjamín Recalde Carballo"
   ]
  },
  {
   "cell_type": "code",
   "execution_count": null,
   "metadata": {
    "vscode": {
     "languageId": "plaintext"
    }
   },
   "outputs": [],
   "source": [
    "import seaborn as sns\n",
    "import matplotlib.pyplot as plt\n",
    "\n",
    "# Cargar el dataset\n",
    "df = sns.load_dataset('tips')\n",
    "\n",
    "# Crear una figura y un eje\n",
    "fig, ax = plt.subplots(figsize=(12, 6))\n",
    "\n",
    "# Gráfico de dispersión con cuadrícula, leyenda, anotaciones y flechas\n",
    "sns.scatterplot(data=df, x='total_bill', y='tip', hue=_____, style=_____, s=_____, ax=_____)\n",
    "ax.set_title('Relación entre Total Bill y Tip con Anotaciones y Flechas', fontsize=20)\n",
    "ax.set_xlabel('Total Bill ($)', fontsize=15)\n",
    "ax.set_ylabel('Tip ($)', fontsize=15)\n",
    "ax.legend(loc='upper right', fontsize='large', shadow=True, title='Detalles')\n",
    "\n",
    "# Añadir cuadrícula\n",
    "ax.grid(True, which=_____, linestyle=_____, linewidth=_____, color='_____')\n",
    "\n",
    "# Añadir anotación\n",
    "ax.annotate('Mayor tip en la cena', xy=(_____, _____), xytext=(_____, _____),\n",
    "            arrowprops=dict(facecolor='black', shrink=0.05))\n",
    "\n",
    "# Añadir flecha\n",
    "ax.arrow(_____, _____, _____, _____, head_width=0.8, head_length=0.5, fc='green', ec='green')\n",
    "\n",
    "# Mostrar el gráfico\n",
    "plt.show()"
   ]
  }
 ],
 "metadata": {
  "language_info": {
   "name": "python"
  }
 },
 "nbformat": 4,
 "nbformat_minor": 2
}
