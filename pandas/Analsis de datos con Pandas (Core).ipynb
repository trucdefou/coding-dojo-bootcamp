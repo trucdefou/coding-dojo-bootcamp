{
 "cells": [
  {
   "cell_type": "markdown",
   "metadata": {},
   "source": [
    "Tarea: Proyecto I. Análisis y predicción de ventas-Part 1 (Core)\n",
    "Nombre: Luciano Benjamín Recalde Carballo"
   ]
  },
  {
   "cell_type": "markdown",
   "metadata": {},
   "source": [
    "1 Carga de datos:"
   ]
  },
  {
   "cell_type": "code",
   "execution_count": null,
   "metadata": {},
   "outputs": [],
   "source": [
    "import pandas as pd\n",
    "\n",
    "# Cargar datos desde un archivo CSV\n",
    "df = pd.read_csv('data/vgsales.csv')\n",
    "\n",
    "# Ver las primeras filas del DataFrame\n",
    "print(\"Primeras filas del DataFrame:\")\n",
    "print(df.head(10))"
   ]
  },
  {
   "cell_type": "markdown",
   "metadata": {},
   "source": [
    "2 Exploración Inicial de datos"
   ]
  },
  {
   "cell_type": "code",
   "execution_count": null,
   "metadata": {},
   "outputs": [],
   "source": [
    "# Ver últimas filas del DataFrame\n",
    "print(\"Últimas filas del DataFrame:\")\n",
    "print(df.tail(5))\n",
    "# Obtener información general sobre el DataFrame\n",
    "print(\"Información del DataFrame:\")\n",
    "print(df.info())\n",
    "# Generar estadísticas descriptivas\n",
    "print(\"Estadísticas descriptivas del DataFrame:\")\n",
    "print(df.describe())"
   ]
  },
  {
   "cell_type": "markdown",
   "metadata": {},
   "source": [
    "3 Inspección de datos"
   ]
  },
  {
   "cell_type": "code",
   "execution_count": null,
   "metadata": {},
   "outputs": [],
   "source": [
    "# Inspeccionar los tipos de datos de las columnas\n",
    "print(\"Tipos de datos de las columnas:\")\n",
    "print(df.dtypes)\n",
    "\n",
    "# Contar valores únicos en una columna específica\n",
    "print(\"Conteo de valores únicos en la columna 'Genre':\")\n",
    "print(df['Genre'].value_counts())\n",
    "\n",
    "# Obtener valores únicos en una columna específica\n",
    "print(\"Valores únicos en la columna 'Platform':\")\n",
    "print(df['Platform'].unique())\n"
   ]
  },
  {
   "cell_type": "markdown",
   "metadata": {},
   "source": [
    "4 Filtrado de datos"
   ]
  },
  {
   "cell_type": "code",
   "execution_count": null,
   "metadata": {},
   "outputs": [],
   "source": [
    "# Filtrar ventas en America del Norte mayor a 1M\n",
    "ventas_am_mayores_a_1M = df[df['NA_Sales'] > 1]\n",
    "print(\"Ventas en America del Norte mayor a 1M\")\n",
    "print(ventas_am_mayores_a_1M)\n",
    "# Filtrar ventas en Japon menor a 100k\n",
    "ventas_jp_menores_a_100k = df[df['JP_Sales'] > 0.1]\n",
    "print(\"Ventas en Japón menor a 100k\")\n",
    "print(ventas_jp_menores_a_100k)\n",
    "\n",
    "# Método Query para Genero Action y Ventas Globales > 2 M\n",
    "query_result = df.query('Genre == \"Action\" & Global_Sales > 2')\n",
    "print(\"Query de Genero action y Ventas globales mayores a 2 millones\")\n",
    "print(query_result)"
   ]
  },
  {
   "cell_type": "markdown",
   "metadata": {},
   "source": [
    "5 Slicing de Datos"
   ]
  },
  {
   "cell_type": "code",
   "execution_count": null,
   "metadata": {},
   "outputs": [],
   "source": [
    "# Seleccionar solo nombre y ventas globales\n",
    "sliced_columns = df[['Name', 'Global_Sales']]\n",
    "print(\"Seleccionar solo nombre y ventas globales\")\n",
    "print(sliced_columns)\n",
    "\n",
    "# Seleccionar filas y columnas específicas con loc\n",
    "loc_result = df.loc[5:10, ['Name', 'Genre']]\n",
    "print(\"Visualizar de la columna 5 a la 10, los datos de Nombre y genero\")\n",
    "print(loc_result)\n",
    "\n",
    "# Seleccionar las primeras 5 columnas y 3 filas del dt\n",
    "iloc_result = df.iloc[0:5, 0:3]\n",
    "print(\"Visualizar 5 primeras filas y 3 primeras columnas\")\n",
    "print(iloc_result)"
   ]
  }
 ],
 "metadata": {
  "kernelspec": {
   "display_name": "Python 3",
   "language": "python",
   "name": "python3"
  },
  "language_info": {
   "codemirror_mode": {
    "name": "ipython",
    "version": 3
   },
   "file_extension": ".py",
   "mimetype": "text/x-python",
   "name": "python",
   "nbconvert_exporter": "python",
   "pygments_lexer": "ipython3",
   "version": "3.10.12"
  }
 },
 "nbformat": 4,
 "nbformat_minor": 4
}
