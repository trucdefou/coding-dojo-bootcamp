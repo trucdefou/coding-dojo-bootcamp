{
 "cells": [
  {
   "cell_type": "code",
   "execution_count": 18,
   "id": "4f006981-8962-4d13-91c2-fe9ce8192931",
   "metadata": {
    "tags": []
   },
   "outputs": [
    {
     "name": "stdout",
     "output_type": "stream",
     "text": [
      "Keras model archive loading:\n",
      "File Name                                             Modified             Size\n",
      "metadata.json                                  2024-12-21 00:09:04           64\n",
      "variables.h5                                   2024-12-21 00:09:04        61728\n",
      "config.json                                    2024-12-21 00:09:04         2228\n",
      "Keras weights file (<HDF5 file \"variables.h5\" (mode r)>) loading:\n",
      "...layers\n",
      "......dense\n",
      ".........vars\n",
      "............0\n",
      "............1\n",
      "......dense_1\n",
      ".........vars\n",
      "............0\n",
      "............1\n",
      "......dense_2\n",
      ".........vars\n",
      "............0\n",
      "............1\n",
      "......dropout\n",
      ".........vars\n",
      "......dropout_1\n",
      ".........vars\n",
      "...metrics\n",
      "......mean\n",
      ".........vars\n",
      "............0\n",
      "............1\n",
      "......mean_metric_wrapper\n",
      ".........vars\n",
      "............0\n",
      "............1\n",
      "...optimizer\n",
      "......vars\n",
      ".........0\n",
      ".........1\n",
      ".........10\n",
      ".........11\n",
      ".........12\n",
      ".........2\n",
      ".........3\n",
      ".........4\n",
      ".........5\n",
      ".........6\n",
      ".........7\n",
      ".........8\n",
      ".........9\n",
      "...vars\n",
      "<keras.engine.sequential.Sequential object at 0x7f27f167ca00>\n"
     ]
    }
   ],
   "source": [
    "import joblib\n",
    "import numpy as np\n",
    "\n",
    "model_path = \"models/mlp.pkl\"  # Path to your MLP model\n",
    "mlp_model = joblib.load(model_path)\n",
    "print(mlp_model)\n",
    "\n",
    "import pandas as pd\n",
    "import seaborn as sns\n",
    "import matplotlib.pyplot as plt\n"
   ]
  },
  {
   "cell_type": "code",
   "execution_count": 19,
   "id": "874ef214-fcc7-4d5f-a22b-23af6daf34bf",
   "metadata": {
    "tags": []
   },
   "outputs": [
    {
     "data": {
      "text/plain": [
       "(2053, 11)"
      ]
     },
     "execution_count": 19,
     "metadata": {},
     "output_type": "execute_result"
    }
   ],
   "source": [
    "\n",
    "df.shape\n",
    "\n"
   ]
  },
  {
   "cell_type": "code",
   "execution_count": 20,
   "id": "9f172af0-7f54-4030-b06f-94cb79ecf60c",
   "metadata": {
    "tags": []
   },
   "outputs": [
    {
     "data": {
      "text/plain": [
       "Index(['Recency', 'NumDealsPurchases', 'NumWebPurchases',\n",
       "       'NumCatalogPurchases', 'NumStorePurchases', 'NumWebVisitsMonth',\n",
       "       'Tot_Expenses', 'Tot_Purchases', 'Age', 'Tot_children', 'Income'],\n",
       "      dtype='object')"
      ]
     },
     "execution_count": 20,
     "metadata": {},
     "output_type": "execute_result"
    }
   ],
   "source": [
    "df.columns\n",
    "\n"
   ]
  },
  {
   "cell_type": "code",
   "execution_count": 21,
   "id": "dba52eb2-2256-4d5d-be42-42bbb62badaf",
   "metadata": {
    "tags": []
   },
   "outputs": [
    {
     "name": "stdout",
     "output_type": "stream",
     "text": [
      "           Recency  NumDealsPurchases  NumWebPurchases  NumCatalogPurchases  \\\n",
      "count  2053.000000        2053.000000      2053.000000          2053.000000   \n",
      "mean     49.010716           2.336094         4.096931             2.659036   \n",
      "std      28.986804           1.942910         2.799306             2.931423   \n",
      "min       0.000000           0.000000         0.000000             0.000000   \n",
      "25%      24.000000           1.000000         2.000000             0.000000   \n",
      "50%      49.000000           2.000000         4.000000             2.000000   \n",
      "75%      74.000000           3.000000         6.000000             4.000000   \n",
      "max      99.000000          15.000000        27.000000            28.000000   \n",
      "\n",
      "       NumStorePurchases  NumWebVisitsMonth  Tot_Expenses  Tot_Purchases  \\\n",
      "count        2053.000000        2053.000000   2053.000000     2053.00000   \n",
      "mean            5.770580           5.320507    606.098880       14.86264   \n",
      "std             3.242696           2.438434    603.159304        7.66944   \n",
      "min             0.000000           0.000000      5.000000        0.00000   \n",
      "25%             3.000000           3.000000     68.000000        8.00000   \n",
      "50%             5.000000           6.000000    396.000000       15.00000   \n",
      "75%             8.000000           7.000000   1045.000000       21.00000   \n",
      "max            13.000000          20.000000   2525.000000       44.00000   \n",
      "\n",
      "               Age  Tot_children         Income  \n",
      "count  2053.000000   2053.000000    2053.000000  \n",
      "mean     55.163176      0.955675   52350.900444  \n",
      "std      11.684705      0.748932   25396.446917  \n",
      "min      28.000000      0.000000    1730.000000  \n",
      "25%      47.000000      0.000000   35701.000000  \n",
      "50%      54.000000      1.000000   52074.000000  \n",
      "75%      65.000000      1.000000   68274.000000  \n",
      "max      81.000000      3.000000  666666.000000  \n",
      "\n",
      "Ingresa los valores de los siguientes features:\n"
     ]
    },
    {
     "name": "stdin",
     "output_type": "stream",
     "text": [
      "Recency:  60\n",
      "NumDealsPurchases:  3\n",
      "NumWebPurchases:  5\n",
      "NumCatalogPurchases:  3\n",
      "NumStorePurchases:  6\n",
      "NumWebVisitsMonth:  4\n",
      "Tot_Expenses:  606\n",
      "Tot_Purchases:  15\n",
      "Age:  59\n",
      "Tot_children:  2\n",
      "Income:  57000\n"
     ]
    },
    {
     "name": "stdout",
     "output_type": "stream",
     "text": [
      "1/1 [==============================] - 0s 68ms/step\n",
      "Predicted Probabilities: [1.]\n",
      "Predicted Classes: [1]\n"
     ]
    }
   ],
   "source": [
    "feature_names = ['Recency', 'NumDealsPurchases', 'NumWebPurchases',\n",
    "                 'NumCatalogPurchases', 'NumStorePurchases', 'NumWebVisitsMonth',\n",
    "                 'Tot_Expenses', 'Tot_Purchases', 'Age', 'Tot_children', 'Income']\n",
    "ds_path = \"data/df2.csv\"\n",
    "df = pd.read_csv(ds_path)\n",
    "print(df.describe())\n",
    "# Function to get input from user\n",
    "print()\n",
    "def get_user_input():\n",
    "    input_data = []\n",
    "    print(\"Ingresa los valores de los siguientes features:\")\n",
    "    for feature in feature_names:\n",
    "        value = float(input(f\"{feature}: \"))\n",
    "        input_data.append(value)\n",
    "    return np.array(input_data).reshape(1, -1)  # Reshape to match model input shape\n",
    "\n",
    "# Get input data from user\n",
    "input_data = get_user_input()\n",
    "\n",
    "\n",
    "# Make predictions\n",
    "predicted_probabilities = mlp_model.predict(input_data)\n",
    "predicted_classes = (predicted_probabilities > 0.5).astype(int)  # Convert probabilities to binary classes\n",
    "\n",
    "# Print the results\n",
    "print(\"Predicted Probabilities:\", predicted_probabilities.flatten())\n",
    "print(\"Predicted Classes:\", predicted_classes.flatten())\n"
   ]
  },
  {
   "cell_type": "code",
   "execution_count": null,
   "id": "947fac25-4343-4813-8923-06f9dfbb8720",
   "metadata": {},
   "outputs": [],
   "source": []
  },
  {
   "cell_type": "code",
   "execution_count": null,
   "id": "21762c16-2a6f-4c7f-80b1-c67679b0c9f6",
   "metadata": {},
   "outputs": [],
   "source": []
  }
 ],
 "metadata": {
  "environment": {
   "kernel": "conda-env-tensorflow-tensorflow",
   "name": "workbench-notebooks.m126",
   "type": "gcloud",
   "uri": "us-docker.pkg.dev/deeplearning-platform-release/gcr.io/workbench-notebooks:m126"
  },
  "kernelspec": {
   "display_name": "TensorFlow 2-11",
   "language": "python",
   "name": "conda-env-tensorflow-tensorflow"
  },
  "language_info": {
   "codemirror_mode": {
    "name": "ipython",
    "version": 3
   },
   "file_extension": ".py",
   "mimetype": "text/x-python",
   "name": "python",
   "nbconvert_exporter": "python",
   "pygments_lexer": "ipython3",
   "version": "3.10.15"
  }
 },
 "nbformat": 4,
 "nbformat_minor": 5
}
